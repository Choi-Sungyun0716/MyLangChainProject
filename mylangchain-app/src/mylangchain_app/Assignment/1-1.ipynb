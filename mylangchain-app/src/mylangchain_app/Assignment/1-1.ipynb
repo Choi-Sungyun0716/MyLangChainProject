{
 "cells": [
  {
   "cell_type": "code",
   "execution_count": 1,
   "id": "055a18b1",
   "metadata": {},
   "outputs": [
    {
     "name": "stdout",
     "output_type": "stream",
     "text": [
      "gsk_1EJvXF\n"
     ]
    }
   ],
   "source": [
    "from dotenv import load_dotenv\n",
    "import os\n",
    "# .env 파일을 불러와서 환경 변수로 설정\n",
    "load_dotenv(dotenv_path='../.env') # 주소는 안줘도 됨\n",
    "\n",
    "OPENAI_API_KEY = os.getenv(\"OPENAI_API_KEY\")\n",
    "print(OPENAI_API_KEY[:10])"
   ]
  },
  {
   "cell_type": "code",
   "execution_count": 7,
   "id": "33f6dce1",
   "metadata": {},
   "outputs": [
    {
     "name": "stdout",
     "output_type": "stream",
     "text": [
      "('- **추천 요리 이름**: 김치 계란 볶음밥  \\n'\n",
      " '\\n'\n",
      " '- **간단한 레시피**  \\n'\n",
      " '  1. 팬에 식용유를 두르고 잘게 썬 김치를 넣어 1분 정도 볶아 향을 낸다.  \\n'\n",
      " '  2. 밥을 넣고 김치와 고루 섞으며 중불에서 2~3분 정도 볶아 밥알이 풀어지게 한다.  \\n'\n",
      " '  3. 풀어놓은 계란을 팬 한쪽에 얹고 스크램블하듯 저어가며 전체와 섞어, 계란이 반숙 정도가 될 때까지 볶는다.  \\n'\n",
      " '  4. 소금·후추와 기호에 따라 간장을 약간 넣어 간을 맞춘 뒤, 접시에 담아 완성한다.  ')\n"
     ]
    }
   ],
   "source": [
    "from langchain_core.prompts import PromptTemplate\n",
    "from langchain_openai import ChatOpenAI\n",
    "from langchain_core.output_parsers import StrOutputParser\n",
    "from pprint import pprint\n",
    "\n",
    "template_text = \"\"\"\n",
    "당신은 창의적인 AI 요리사입니다.\n",
    "사용자가 입력한 재료를 활용하여 만들 수 있는 요리를 추천하고,\n",
    "간단한 레시피를 단계별로 알려주세요.\n",
    "\n",
    "재료: {ingredients}\n",
    "\n",
    "출력 형식:\n",
    "- 추천 요리 이름\n",
    "- 간단한 레시피 (2~4단계)\n",
    "\"\"\"\n",
    "\n",
    "# PromptTemplate 인스턴스를 생성\n",
    "prompt_template = PromptTemplate.from_template(template_text)\n",
    "\n",
    "# llm = ChatOpenAI(model=\"gpt-3.5-turbo-0125\")\n",
    "llm = ChatOpenAI(\n",
    "    api_key=OPENAI_API_KEY,\n",
    "    base_url=\"https://api.groq.com/openai/v1\",  # Groq API 엔드포인트\n",
    "    #model=\"meta-llama/llama-4-scout-17b-16e-instruct\",  # Spring AI와 동일한 모델\n",
    "    model=\"openai/gpt-oss-120b\",\n",
    "    temperature=0.7\n",
    ")\n",
    "\n",
    "chain = prompt_template | llm | StrOutputParser()\n",
    "response = chain.invoke({\"ingredients\": \"계란, 밥, 김치\"})\n",
    "pprint(response)"
   ]
  }
 ],
 "metadata": {
  "kernelspec": {
   "display_name": "mylangchain-app-SBe-Yh6W-py3.12",
   "language": "python",
   "name": "python3"
  },
  "language_info": {
   "codemirror_mode": {
    "name": "ipython",
    "version": 3
   },
   "file_extension": ".py",
   "mimetype": "text/x-python",
   "name": "python",
   "nbconvert_exporter": "python",
   "pygments_lexer": "ipython3",
   "version": "3.12.7"
  }
 },
 "nbformat": 4,
 "nbformat_minor": 5
}
