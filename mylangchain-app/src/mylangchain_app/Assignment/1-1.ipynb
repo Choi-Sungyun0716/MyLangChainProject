{
 "cells": [
  {
   "cell_type": "code",
   "execution_count": 1,
   "id": "055a18b1",
   "metadata": {},
   "outputs": [
    {
     "name": "stdout",
     "output_type": "stream",
     "text": [
      "gsk_1EJvXF\n"
     ]
    }
   ],
   "source": [
    "from dotenv import load_dotenv\n",
    "import os\n",
    "# .env 파일을 불러와서 환경 변수로 설정\n",
    "load_dotenv(dotenv_path='../.env') # 주소는 안줘도 됨\n",
    "\n",
    "OPENAI_API_KEY = os.getenv(\"OPENAI_API_KEY\")\n",
    "print(OPENAI_API_KEY[:10])"
   ]
  },
  {
   "cell_type": "code",
   "execution_count": null,
   "id": "33f6dce1",
   "metadata": {},
   "outputs": [
    {
     "name": "stdout",
     "output_type": "stream",
     "text": [
      "('**추천 요리: 감자·당근·양파 스프**\\n'\n",
      " '\\n'\n",
      " '| 재료 | 양 (1인분 기준) |\\n'\n",
      " '|------|----------------|\\n'\n",
      " '| 감자 | 1개 (중간 크기, 약 150\\u202fg) |\\n'\n",
      " '| 당근 | ½개 (약 70\\u202fg) |\\n'\n",
      " '| 양파 | ½개 (약 50\\u202fg) |\\n'\n",
      " '| 올리브오일 | 1\\u202f큰술 |\\n'\n",
      " '| 다진 마늘 | ½\\u202f작은술 |\\n'\n",
      " '| 물 또는 야채 육수 | 400\\u202fml |\\n'\n",
      " '| 소금 | 약간 |\\n'\n",
      " '| 후추 | 약간 |\\n'\n",
      " '| 파슬리 (선택) | 약간, 다진 것 |\\n'\n",
      " '| 크림 (선택) | 1\\u202f큰술 |\\n'\n",
      " '\\n'\n",
      " '---\\n'\n",
      " '\\n'\n",
      " '### 조리 순서\\n'\n",
      " '\\n'\n",
      " '1. **재료 손질**  \\n'\n",
      " '   - 감자와 당근은 껍질을 벗기고 **작은 깍둑‑모양**(≈1\\u202fcm)으로 썰어 주세요.  \\n'\n",
      " '   - 양파는 얇게 채썰고, 마늘은 다져 둡니다.\\n'\n",
      " '\\n'\n",
      " '2. **베이스 만들기**  \\n'\n",
      " '   - 냄비에 올리브오일을 두르고 중불에서 **양파와 마늘**을 2~3분간 투명해질 때까지 볶습니다.  \\n'\n",
      " '   - 양파가 살짝 캐러멜화되면 감자와 당근을 넣고 전체가 골고루 코팅되도록 1분 정도 더 볶아 주세요.\\n'\n",
      " '\\n'\n",
      " '3. **끓이기**  \\n'\n",
      " '   - 물(또는 야채 육수)를 부어 재료가 잠길 정도까지 끓입니다.  \\n'\n",
      " '   - 끓어오르면 불을 약하게 줄이고 **뚜껑을 덮은 채 15~20분** 정도, 감자와 당근이 부드러워질 때까지 끓입니다.\\n'\n",
      " '\\n'\n",
      " '4. **블렌딩**  \\n'\n",
      " '   - 감자와 당근이 충분히 익으면 불을 끄고, **핸드 블렌더**(또는 일반 블렌더)로 곱게 갈아 줍니다.  \\n'\n",
      " '   - 필요하면 물을 추가해 원하는 농도로 맞춥니다.\\n'\n",
      " '\\n'\n",
      " '5. **마무리**  \\n'\n",
      " '   - 다시 약불에 올려 **소금·후추**로 간을 맞춥니다.  \\n'\n",
      " '   - 원한다면 **크림**을 한 스푼 넣어 부드럽게 만들고, 마지막에 **다진 파슬리**를 뿌려 줍니다.\\n'\n",
      " '\\n'\n",
      " '6. **서빙**  \\n'\n",
      " '   - 따뜻한 그릇에 담고, 원한다면 바삭하게 구운 베이컨 조각이나 토스트 크루통을 곁들여 주세요.\\n'\n",
      " '\\n'\n",
      " '---\\n'\n",
      " '\\n'\n",
      " '### 팁 & 변형 아이디어\\n'\n",
      " '\\n'\n",
      " '- **고소함 추가**: 볶을 때 버터 1\\u202f작은술을 넣으면 풍미가 한층 깊어집니다.  \\n'\n",
      " '- **채식 버전**: 크림 대신 코코넛 밀크를 사용하면 부드러운 식감과 은은한 향을 얻을 수 있어요.  \\n'\n",
      " '- **매운맛**: 마지막에 고춧가루 한 꼬집이나 고추기름 몇 방울을 넣으면 색다른 매운 스프가 됩니다.  \\n'\n",
      " '- **다른 채소 활용**: 집에 남은 셀러리, 파프리카, 브로콜리 등을 작게 썰어 함께 끓여도 좋습니다.\\n'\n",
      " '\\n'\n",
      " '---\\n'\n",
      " '\\n'\n",
      " '**한 끼 식사로 충분히 만족스러운** 감자·당근·양파 스프!  \\n'\n",
      " '간단히 만들 수 있으면서도 포만감이 높고, 따뜻한 국물이 몸을 촉촉히 감싸줄 거예요. 즐거운 요리 시간 되세요!')\n"
     ]
    }
   ],
   "source": [
    "from langchain_core.prompts import PromptTemplate\n",
    "from langchain_openai import ChatOpenAI\n",
    "from langchain_core.output_parsers import StrOutputParser\n",
    "from pprint import pprint\n",
    "\n",
    "template_text = \"\"\"\n",
    "당신은 창의적인 AI 요리사입니다.\n",
    "사용자가 입력한 재료를 활용하여 만들 수 있는 요리를 추천하고,\n",
    "간단한 레시피를 단계별로 알려주세요.\n",
    "\n",
    "재료: {ingredients}\n",
    "\n",
    "출력 형식:\n",
    "- 추천 요리 이름\n",
    "- 간단한 레시피 (2~4단계)\n",
    "\"\"\"\n",
    "\n",
    "# PromptTemplate 인스턴스를 생성\n",
    "prompt_template = PromptTemplate.from_template(template_text)\n",
    "\n",
    "# llm = ChatOpenAI(model=\"gpt-3.5-turbo-0125\")\n",
    "llm = ChatOpenAI(\n",
    "    api_key=OPENAI_API_KEY,\n",
    "    base_url=\"https://api.groq.com/openai/v1\",  # Groq API 엔드포인트\n",
    "    #model=\"meta-llama/llama-4-scout-17b-16e-instruct\",  # Spring AI와 동일한 모델\n",
    "    model=\"openai/gpt-oss-120b\",\n",
    "    temperature=0.7\n",
    ")\n",
    "\n",
    "chain = prompt_template | llm | StrOutputParser()\n",
    "response = chain.invoke({\"ingredients\": \"계란, 밥, 김치\"})\n",
    "pprint(response)"
   ]
  }
 ],
 "metadata": {
  "kernelspec": {
   "display_name": "mylangchain-app-SBe-Yh6W-py3.12",
   "language": "python",
   "name": "python3"
  },
  "language_info": {
   "codemirror_mode": {
    "name": "ipython",
    "version": 3
   },
   "file_extension": ".py",
   "mimetype": "text/x-python",
   "name": "python",
   "nbconvert_exporter": "python",
   "pygments_lexer": "ipython3",
   "version": "3.12.7"
  }
 },
 "nbformat": 4,
 "nbformat_minor": 5
}
